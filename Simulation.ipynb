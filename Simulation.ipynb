{
 "cells": [
  {
   "cell_type": "markdown",
   "id": "e4f15ed2-70f8-4462-a3e2-86f8b2ec6cc6",
   "metadata": {},
   "source": [
    "# MEWpy Simulation"
   ]
  },
  {
   "cell_type": "code",
   "execution_count": 3,
   "id": "6859cf8e-d7dc-47c6-a428-7b2f95c41168",
   "metadata": {},
   "outputs": [
    {
     "name": "stdout",
     "output_type": "stream",
     "text": [
      "Set parameter Username\n",
      "Academic license - for non-commercial use only - expires 2023-06-19\n"
     ]
    }
   ],
   "source": [
    "#Importing the libraries needed for resolution\n",
    "import escher\n",
    "import cobra\n",
    "from reframed.io.sbml import load_cbmodel\n",
    "from mewpy.simulation.environment import Environment\n",
    "from mewpy.simulation import get_simulator\n",
    "from cobra.io import read_sbml_model\n",
    "from cobra import Model, Reaction, Metabolite\n",
    "\n",
    "from mewpy.simulation import set_default_solver\n",
    "set_default_solver('gurobi')"
   ]
  },
  {
   "cell_type": "code",
   "execution_count": 4,
   "id": "454d5098-85bf-49db-ab22-94b19992298f",
   "metadata": {},
   "outputs": [],
   "source": [
    "#Load a model using COBRApy:\n",
    "from cobra.io import read_sbml_model\n",
    "\n",
    "cobra.io.sbml.validate_sbml_model\n",
    "model = read_sbml_model(\"iJB785_ed_valid.xml\")"
   ]
  },
  {
   "cell_type": "markdown",
   "id": "21d84ee1-d108-4747-9d98-f5bd64212a68",
   "metadata": {},
   "source": [
    "## Phenotype Simulation"
   ]
  },
  {
   "cell_type": "code",
   "execution_count": 5,
   "id": "7a688941-7a57-4dda-a127-becceac40bae",
   "metadata": {},
   "outputs": [
    {
     "data": {
      "text/plain": [
       "objective: 0.0539018677457569\n",
       "Status: OPTIMAL\n",
       "Constraints: OrderedDict()\n",
       "Method:FBA"
      ]
     },
     "execution_count": 5,
     "metadata": {},
     "output_type": "execute_result"
    }
   ],
   "source": [
    "#Phenotype simulations using the simulate method FBA. \n",
    "simul = get_simulator(model)\n",
    "result = simul.simulate(method='FBA')\n",
    "\n",
    "result"
   ]
  },
  {
   "cell_type": "code",
   "execution_count": 4,
   "id": "d5add337-4d5d-485b-8b42-a88ce4cab2a7",
   "metadata": {},
   "outputs": [
    {
     "data": {
      "text/plain": [
       "{'c': 'cytosol',\n",
       " 'e': 'extracellular space',\n",
       " 'cx': 'carboxyzome',\n",
       " 'u': 'thylakoid',\n",
       " 'um': 'thylakoid membrane',\n",
       " 'cm': 'cytosolic membrane',\n",
       " 'p': 'periplasm'}"
      ]
     },
     "execution_count": 4,
     "metadata": {},
     "output_type": "execute_result"
    }
   ],
   "source": [
    "simul.compartments"
   ]
  },
  {
   "cell_type": "code",
   "execution_count": 5,
   "id": "c570d410-0508-4509-a045-44266fcd3a0e",
   "metadata": {},
   "outputs": [
    {
     "data": {
      "text/plain": [
       "EX_gln__L_e\t-10.0\tinf\n",
       "EX_hco3_e\t-10.0\tinf\n",
       "EX_mn2_e\t-10.0\tinf\n",
       "EX_mg2_e\t-10.0\tinf\n",
       "EX_ca2_e\t-10.0\tinf\n",
       "EX_nh4_e\t-10.0\tinf\n",
       "EX_cu2_e\t-10.0\tinf\n",
       "EX_k_e\t-10.0\tinf\n",
       "EX_h2o_e\t-10.0\tinf\n",
       "EX_o2_e\t-10.0\tinf\n",
       "EX_co2_e\t-10.0\tinf\n",
       "EX_leu__L_e\t-10.0\tinf\n",
       "EX_cobalt2_e\t-10.0\tinf\n",
       "EX_no3_e\t-10.0\tinf\n",
       "EX_zn2_e\t-10.0\tinf\n",
       "EX_fe3_e\t-10.0\tinf\n",
       "EX_so4_e\t-10.0\tinf\n",
       "EX_mobd_e\t-10.0\tinf\n",
       "EX_na1_e\t-10.0\tinf\n",
       "EX_h_e\t-10.0\tinf\n",
       "EX_photon410_e\t-10.0\tinf\n",
       "EX_photon430_e\t-10.0\tinf\n",
       "EX_photon450_e\t-10.0\tinf\n",
       "EX_photon470_e\t-10.0\tinf\n",
       "EX_photon490_e\t-10.0\tinf\n",
       "EX_photon510_e\t-10.0\tinf\n",
       "EX_photon530_e\t-10.0\tinf\n",
       "EX_photon550_e\t-10.0\tinf\n",
       "EX_photon570_e\t-10.0\tinf\n",
       "EX_photon590_e\t-10.0\tinf\n",
       "EX_photon610_e\t-10.0\tinf\n",
       "EX_photon630_e\t-10.0\tinf\n",
       "EX_photon650_e\t-10.0\tinf\n",
       "EX_photon670_e\t-10.0\tinf\n",
       "EX_photon690_e\t-10.0\tinf\n",
       "EX_pi_e\t-10.0\tinf"
      ]
     },
     "execution_count": 5,
     "metadata": {},
     "output_type": "execute_result"
    }
   ],
   "source": [
    "#Checking the ambient conditions of our model\n",
    "medium = Environment.from_model(simul).get_compounds()\n",
    "env = Environment.from_compounds(medium)\n",
    "env"
   ]
  },
  {
   "cell_type": "code",
   "execution_count": 6,
   "id": "fd1de128-48ae-49c8-9d2e-55f3bfc38fdf",
   "metadata": {},
   "outputs": [
    {
     "data": {
      "text/plain": [
       "['CH4t',\n",
       " 'act',\n",
       " 'O2tcx',\n",
       " 'H2Otu_syn',\n",
       " 'Htex',\n",
       " 'PQH2tum',\n",
       " 'O2tu',\n",
       " 'O2tpp',\n",
       " 'H2Otex',\n",
       " 'O2tex',\n",
       " 'RB15BPtcx',\n",
       " '3PGtcx',\n",
       " 'NH4tpp',\n",
       " 'Htcx',\n",
       " 'H2Otpp',\n",
       " 'HCO3tcx',\n",
       " 'MG2tex',\n",
       " 'CO2tex',\n",
       " 'PQH2tcm',\n",
       " '2PGLYCtcx',\n",
       " 'FE3tex',\n",
       " 'FE2tex',\n",
       " 'NI2tex',\n",
       " 'CA2t2pp',\n",
       " 'MNtex',\n",
       " 'COBALT2tex',\n",
       " 'CU2tex',\n",
       " 'MEOHtrpp',\n",
       " 'MEOHtex',\n",
       " 'H2Otcx',\n",
       " 'Zn2tex',\n",
       " 'SPMDtex',\n",
       " 'LEUtex',\n",
       " 'HCO3tex',\n",
       " 'GLNtex',\n",
       " 'CYNTtex',\n",
       " 'ARGtex',\n",
       " 'MOBDtex',\n",
       " 'NH4tex',\n",
       " 'SO4tex',\n",
       " 'PTRCtex',\n",
       " 'NO3tex',\n",
       " 'NAtex',\n",
       " 'CA2tex',\n",
       " 'Ktex',\n",
       " 'CO2tpp',\n",
       " 'PItex',\n",
       " 'NO2tex',\n",
       " 'CLtex',\n",
       " 'Ktu',\n",
       " 'PCXHtpp']"
      ]
     },
     "execution_count": 6,
     "metadata": {},
     "output_type": "execute_result"
    }
   ],
   "source": [
    "#list of transport reactions\n",
    "simul.get_transport_reactions()"
   ]
  },
  {
   "cell_type": "code",
   "execution_count": 7,
   "id": "700fd511-e90a-4d44-9096-6257b2e2693d",
   "metadata": {},
   "outputs": [
    {
     "data": {
      "text/plain": [
       "['EX_gln__L_e',\n",
       " 'EX_ac_e',\n",
       " 'EX_meth_e',\n",
       " 'EX_hco3_e',\n",
       " 'EX_mn2_e',\n",
       " 'EX_arg__L_e',\n",
       " 'EX_mg2_e',\n",
       " 'EX_ptrc_e',\n",
       " 'EX_ca2_e',\n",
       " 'EX_nh4_e',\n",
       " 'EX_fe2_e',\n",
       " 'EX_cu2_e',\n",
       " 'EX_k_e',\n",
       " 'EX_h2o_e',\n",
       " 'EX_o2_e',\n",
       " 'EX_co2_e',\n",
       " 'EX_leu__L_e',\n",
       " 'EX_cobalt2_e',\n",
       " 'EX_no3_e',\n",
       " 'EX_zn2_e',\n",
       " 'EX_fe3_e',\n",
       " 'EX_so4_e',\n",
       " 'EX_spmd_e',\n",
       " 'EX_mobd_e',\n",
       " 'EX_ni2_e',\n",
       " 'EX_na1_e',\n",
       " 'EX_cynt_e',\n",
       " 'EX_h_e',\n",
       " 'EX_photon410_e',\n",
       " 'EX_photon430_e',\n",
       " 'EX_photon450_e',\n",
       " 'EX_photon470_e',\n",
       " 'EX_photon490_e',\n",
       " 'EX_photon510_e',\n",
       " 'EX_photon530_e',\n",
       " 'EX_photon550_e',\n",
       " 'EX_photon570_e',\n",
       " 'EX_photon590_e',\n",
       " 'EX_photon610_e',\n",
       " 'EX_photon630_e',\n",
       " 'EX_photon650_e',\n",
       " 'EX_photon670_e',\n",
       " 'EX_photon690_e',\n",
       " 'EX_pi_e',\n",
       " 'EX_meoh_e',\n",
       " 'EX_cl_e']"
      ]
     },
     "execution_count": 7,
     "metadata": {},
     "output_type": "execute_result"
    }
   ],
   "source": [
    "#list of exchange reactions\n",
    "simul.get_exchange_reactions()"
   ]
  },
  {
   "cell_type": "code",
   "execution_count": 8,
   "id": "7bb67bf4-d300-4301-9b00-1b68c7a5b7b3",
   "metadata": {},
   "outputs": [
    {
     "name": "stdout",
     "output_type": "stream",
     "text": [
      "Flux Value : EX_meth_e  0.0\n",
      "Flux Value: EX_co2_e -0.21868355727167424\n",
      "Flux Value: EX_o2_e 1.9955468913983692\n",
      "Flux Value: meth_ae -0.21868355727167424\n",
      "Flux Value: EX_ac_e 0.0\n",
      "\n",
      "  Reaction ID   Minimum     Maximum\n",
      "0     meth_ae -1.347834  239.596376\n",
      "  Reaction ID  Minimum   Maximum\n",
      "0   EX_meth_e      0.0  2.302037\n",
      "  Reaction ID  Minimum   Maximum\n",
      "0    EX_co2_e    -1.99  0.312037\n",
      "  Reaction ID  Minimum   Maximum\n",
      "0     EX_ac_e      0.0  1.151018\n",
      "  Reaction ID   Minimum     Maximum\n",
      "0        CH4t -2.498852  239.596376\n",
      "  Reaction ID   Minimum    Maximum\n",
      "0     EX_o2_e  1.795991  55.242947\n",
      "  Reaction ID   Minimum     Maximum\n",
      "0     meth_ae -1.347834  239.596376\n"
     ]
    }
   ],
   "source": [
    "print('Flux Value : EX_meth_e ', result.fluxes['EX_meth_e'])\n",
    "print('Flux Value: EX_co2_e', result.fluxes['EX_co2_e'])\n",
    "print('Flux Value: EX_o2_e', result.fluxes['EX_o2_e'])\n",
    "print('Flux Value: meth_ae', result.fluxes['meth_ae'])\n",
    "print('Flux Value: EX_ac_e', result.fluxes['EX_ac_e'])\n",
    "\n",
    "print()\n",
    "\n",
    "print(simul.FVA(reactions=['meth_ae'], format=('df')))\n",
    "print(simul.FVA(reactions=['EX_meth_e'], format=('df')))\n",
    "print(simul.FVA(reactions=['EX_co2_e'], format=('df')))\n",
    "print(simul.FVA(reactions=['EX_ac_e'], format=('df')))\n",
    "print(simul.FVA(reactions=['CH4t'], format=('df')))\n",
    "print(simul.FVA(reactions=['EX_o2_e'], format=('df')))\n",
    "\n",
    "print(simul.FVA(reactions=['meth_ae'], format=('df')))"
   ]
  },
  {
   "cell_type": "code",
   "execution_count": 8,
   "id": "b7d09dd7-4206-455a-b446-7dcf414e02b1",
   "metadata": {},
   "outputs": [
    {
     "name": "stdout",
     "output_type": "stream",
     "text": [
      "Flux Value: meth_ae -0.10332493573260686\n",
      "Flux Value : EX_meth_e -0.10332493573260686\n",
      "Flux Value: EX_co2_e 0.2289214551605221\n",
      "Flux Value: EX_ac_e 0.0\n",
      "Flux Value: CH4t 0.0\n",
      "\n",
      "pFBA\n",
      "Flux Value: meth_ae -0.21868355727175112\n",
      "Flux Value : EX_meth_e -1.954391113776647\n",
      "Flux Value: EX_co2_e 0.08998763320335892\n",
      "Flux Value: EX_ac_e 0.0\n",
      "Flux Value: CH4t 1.7357075565048958\n",
      "\n",
      "  Reaction ID   Minimum     Maximum\n",
      "0     meth_ae -5.352834  245.657905\n",
      "  Reaction ID  Minimum   Maximum\n",
      "0   EX_meth_e    -10.0  0.312037\n",
      "  Reaction ID  Minimum    Maximum\n",
      "0    EX_co2_e      0.0  10.312037\n",
      "  Reaction ID  Minimum   Maximum\n",
      "0     EX_ac_e      0.0  5.156018\n",
      "  Reaction ID   Minimum     Maximum\n",
      "0        CH4t -0.508852  255.657905\n",
      "  Reaction ID    Minimum    Maximum\n",
      "0     EX_o2_e -18.204194  53.252947\n"
     ]
    }
   ],
   "source": [
    "#Set Environmental Conditions\n",
    "envcond_ae = {'CH4t': (-1000,1000),\n",
    "          'EX_meth_e':(-10,1000),\n",
    "          'EX_co2_e': (0, 1000),\n",
    "         'EX_ac_e':(0,1000)}\n",
    "\n",
    "simul_ae= get_simulator(model, envcond=envcond_ae)\n",
    "result_ae = simul_ae.simulate(method='FBA')\n",
    "\n",
    "result_p = simul_ae.simulate(method='pFBA')\n",
    "\n",
    "print('Flux Value: meth_ae', result_ae.fluxes['meth_ae'])\n",
    "print('Flux Value : EX_meth_e', result_ae.fluxes['EX_meth_e'])\n",
    "print('Flux Value: EX_co2_e', result_ae.fluxes['EX_co2_e'])\n",
    "print('Flux Value: EX_ac_e', result_ae.fluxes['EX_ac_e'])\n",
    "print('Flux Value: CH4t', result_ae.fluxes['CH4t'])\n",
    "print('')\n",
    "print('pFBA')\n",
    "print('Flux Value: meth_ae', result_p.fluxes['meth_ae'])\n",
    "print('Flux Value : EX_meth_e', result_p.fluxes['EX_meth_e'])\n",
    "print('Flux Value: EX_co2_e', result_p.fluxes['EX_co2_e'])\n",
    "print('Flux Value: EX_ac_e', result_p.fluxes['EX_ac_e'])\n",
    "print('Flux Value: CH4t', result_p.fluxes['CH4t'])\n",
    "print('')\n",
    "print(simul_ae.FVA(reactions=['meth_ae'], format=('df')))\n",
    "print(simul_ae.FVA(reactions=['EX_meth_e'], format=('df')))\n",
    "print(simul_ae.FVA(reactions=['EX_co2_e'], format=('df')))\n",
    "print(simul_ae.FVA(reactions=['EX_ac_e'], format=('df')))\n",
    "print(simul_ae.FVA(reactions=['CH4t'], format=('df')))\n",
    "print(simul_ae.FVA(reactions=['EX_o2_e'], format=('df')))"
   ]
  },
  {
   "cell_type": "code",
   "execution_count": 9,
   "id": "3288eba1-cbd9-4a42-903d-c89c2bea2fd9",
   "metadata": {},
   "outputs": [
    {
     "name": "stdout",
     "output_type": "stream",
     "text": [
      "Flux Value : meth_ana -1.596494099860053\n",
      "Flux Value : EX_meth_e -1.596494099860053\n",
      "Flux Value: EX_o2_e 0.0\n",
      "Flux Value: EX_co2_e 0.0\n",
      "Flux Value: CH4t 1.596494099860053\n",
      "Flux Value: EX_ac_e 0.0\n",
      "pFBA\n",
      "Flux Value : meth_ana -1.3778105425885998\n",
      "Flux Value : EX_meth_e -1.5964940998603463\n",
      "Flux Value: EX_o2_e 0.0\n",
      "Flux Value: EX_co2_e 0.0\n",
      "Flux Value: CH4t 1.3778105425885998\n",
      "Flux Value: EX_ac_e 0.0\n",
      "\n",
      "  Reaction ID     Minimum  Maximum\n",
      "0    meth_ana -251.372112 -0.70109\n",
      "  Reaction ID  Minimum   Maximum\n",
      "0   EX_meth_e    -10.0 -0.897905\n",
      "  Reaction ID  Minimum    Maximum\n",
      "0    EX_co2_e      0.0  10.312037\n",
      "  Reaction ID  Minimum  Maximum\n",
      "0     EX_o2_e      0.0      0.0\n",
      "  Reaction ID  Minimum   Maximum\n",
      "0     EX_ac_e      0.0  5.156018\n",
      "  Reaction ID  Minimum     Maximum\n",
      "0        CH4t  0.70109  251.372112\n"
     ]
    }
   ],
   "source": [
    "envcond_ana = {'CH4t': (-1000,1000),\n",
    "          'EX_meth_e':(-10,1000),\n",
    "          'EX_co2_e': (0, 1000),\n",
    "           'EX_o2_e': (0,0)}\n",
    "\n",
    "simul_ana= get_simulator(model, envcond=envcond_ana)\n",
    "result_ana = simul_ana.simulate(method='FBA')\n",
    "\n",
    "print('Flux Value : meth_ana', result_ana.fluxes['meth_ana'])\n",
    "print('Flux Value : EX_meth_e', result_ana.fluxes['EX_meth_e'])\n",
    "print('Flux Value: EX_o2_e', result_ana.fluxes['EX_o2_e'])\n",
    "print('Flux Value: EX_co2_e', result_ana.fluxes['EX_co2_e'])\n",
    "print('Flux Value: CH4t', result_ana.fluxes['CH4t'])\n",
    "print('Flux Value: EX_ac_e', result_ana.fluxes['EX_ac_e'])\n",
    "\n",
    "result_p_ana = simul_ana.simulate(method='pFBA')\n",
    "print('pFBA')\n",
    "print('Flux Value : meth_ana', result_p_ana.fluxes['meth_ana'])\n",
    "print('Flux Value : EX_meth_e', result_p_ana.fluxes['EX_meth_e'])\n",
    "print('Flux Value: EX_o2_e', result_p_ana.fluxes['EX_o2_e'])\n",
    "print('Flux Value: EX_co2_e', result_p_ana.fluxes['EX_co2_e'])\n",
    "print('Flux Value: CH4t', result_p_ana.fluxes['CH4t'])\n",
    "print('Flux Value: EX_ac_e', result_p_ana.fluxes['EX_ac_e'])\n",
    "\n",
    "print()\n",
    "print(simul_ana.FVA(reactions=['meth_ana'], format=('df')))\n",
    "print(simul_ana.FVA(reactions=['EX_meth_e'], format=('df')))\n",
    "print(simul_ana.FVA(reactions=['EX_co2_e'], format=('df')))\n",
    "print(simul_ana.FVA(reactions=['EX_o2_e'], format=('df')))\n",
    "print(simul_ana.FVA(reactions=['EX_ac_e'], format=('df')))\n",
    "print(simul_ana.FVA(reactions=['CH4t'], format=('df')))\n"
   ]
  },
  {
   "cell_type": "code",
   "execution_count": null,
   "id": "8a56c1b2-d1c0-4b9c-87e1-060b79527692",
   "metadata": {},
   "outputs": [],
   "source": []
  }
 ],
 "metadata": {
  "kernelspec": {
   "display_name": "Python 3",
   "language": "python",
   "name": "python3"
  },
  "language_info": {
   "codemirror_mode": {
    "name": "ipython",
    "version": 3
   },
   "file_extension": ".py",
   "mimetype": "text/x-python",
   "name": "python",
   "nbconvert_exporter": "python",
   "pygments_lexer": "ipython3",
   "version": "3.8.8"
  }
 },
 "nbformat": 4,
 "nbformat_minor": 5
}
