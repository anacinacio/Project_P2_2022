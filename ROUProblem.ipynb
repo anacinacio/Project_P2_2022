{
 "cells": [
  {
   "cell_type": "markdown",
   "id": "be884d3e-9b0d-4a37-9d08-8b00c89d0b56",
   "metadata": {},
   "source": [
    "## ROU - Reaction Under/Overexpression "
   ]
  },
  {
   "cell_type": "code",
   "execution_count": 2,
   "id": "e11e7de4-2cc0-4676-be8f-2739552bdac5",
   "metadata": {},
   "outputs": [
    {
     "name": "stdout",
     "output_type": "stream",
     "text": [
      "Building modification target list.\n",
      "Running GA\n",
      "Evaluations: 100\tFitness: 0.0\n",
      "Evaluations: 200\tFitness: 10.0\n",
      "Evaluations: 300\tFitness: 10.0\n",
      "Evaluations: 400\tFitness: 10.0\n",
      "Evaluations: 500\tFitness: 10.0\n",
      "Evaluations: 600\tFitness: 10.0\n",
      "Evaluations: 700\tFitness: 10.0\n",
      "Evaluations: 800\tFitness: 10.0\n",
      "Evaluations: 900\tFitness: 10.0\n",
      "Evaluations: 1000\tFitness: 10.0\n",
      "Evaluations: 1100\tFitness: 10.0\n",
      "Evaluations: 1200\tFitness: 10.0\n",
      "Evaluations: 1300\tFitness: 10.0\n",
      "Evaluations: 1400\tFitness: 10.0\n",
      "Evaluations: 1500\tFitness: 10.0\n",
      "Evaluations: 1600\tFitness: 10.0\n",
      "Evaluations: 1700\tFitness: 10.0\n",
      "Evaluations: 1800\tFitness: 10.0\n",
      "Evaluations: 1900\tFitness: 10.0\n",
      "Evaluations: 2000\tFitness: 10.0\n",
      "[[-10.0];{'TPI': 32}, [-10.0];{'meth_ana': 8}]\n"
     ]
    }
   ],
   "source": [
    "#Importing the libraries and reading the model\n",
    "from cobra.io import read_sbml_model\n",
    "model = read_sbml_model('iJB785_ed_valid.xml')\n",
    "envcond= {'CH4t': (-1000,1000),\n",
    "          'EX_meth_e':(-10,1000),\n",
    "          'EX_co2_e': (-10, 1000),\n",
    "         'EX_ac_e':(0,1000)}\n",
    "\n",
    "#Import library for the optimization\n",
    "from mewpy.optimization.evaluation import TargetFlux\n",
    "\n",
    "evaluator_1 = TargetFlux(reaction=\"EX_meth_e\", biomass=\"BIOMASS__1\", maximize=False, min_biomass_value=0.01)\n",
    "\n",
    "\n",
    "from mewpy.problems import ROUProblem\n",
    "\n",
    "problem = ROUProblem(model,fevaluation=[evaluator_1],envcond=envcond, candidate_max_size=3)\n",
    "\n",
    "from mewpy.optimization import EA\n",
    "ea = EA(problem, max_generations= 20, mp=20)\n",
    "final_pop = ea.run()\n",
    "print(final_pop)"
   ]
  },
  {
   "cell_type": "code",
   "execution_count": null,
   "id": "f61e069b-5464-4af8-b60b-2b1ec32c4698",
   "metadata": {},
   "outputs": [],
   "source": []
  }
 ],
 "metadata": {
  "kernelspec": {
   "display_name": "Python 3",
   "language": "python",
   "name": "python3"
  },
  "language_info": {
   "codemirror_mode": {
    "name": "ipython",
    "version": 3
   },
   "file_extension": ".py",
   "mimetype": "text/x-python",
   "name": "python",
   "nbconvert_exporter": "python",
   "pygments_lexer": "ipython3",
   "version": "3.8.8"
  }
 },
 "nbformat": 4,
 "nbformat_minor": 5
}
