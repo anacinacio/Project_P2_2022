{
 "cells": [
  {
   "cell_type": "markdown",
   "id": "1fe198d2-06c0-47ec-8909-68c6d3a2fa8b",
   "metadata": {},
   "source": [
    "## RKO - Reaction Knockout "
   ]
  },
  {
   "cell_type": "code",
   "execution_count": 2,
   "id": "f6163b0d-b945-41af-8fe9-a858015a5e00",
   "metadata": {},
   "outputs": [
    {
     "name": "stdout",
     "output_type": "stream",
     "text": [
      "Building modification target list.\n",
      "Computing essential reactions\n"
     ]
    },
    {
     "name": "stderr",
     "output_type": "stream",
     "text": [
      "100%|██████████| 855/855 [00:25<00:00, 34.16it/s]\n"
     ]
    },
    {
     "name": "stdout",
     "output_type": "stream",
     "text": [
      "Running GA\n",
      "Evaluations: 100\tFitness: 1.9543911137894106\n",
      "Evaluations: 200\tFitness: 7.41016910826688\n",
      "Evaluations: 300\tFitness: 10.0\n",
      "Evaluations: 400\tFitness: 10.0\n",
      "Evaluations: 500\tFitness: 10.0\n",
      "Evaluations: 600\tFitness: 10.0\n",
      "Evaluations: 700\tFitness: 10.0\n",
      "Evaluations: 800\tFitness: 10.0\n",
      "Evaluations: 900\tFitness: 10.0\n",
      "Evaluations: 1000\tFitness: 10.0\n",
      "Evaluations: 1100\tFitness: 10.0\n",
      "Evaluations: 1200\tFitness: 10.0\n",
      "Evaluations: 1300\tFitness: 10.0\n",
      "Evaluations: 1400\tFitness: 10.0\n",
      "Evaluations: 1500\tFitness: 10.0\n",
      "Evaluations: 1600\tFitness: 10.0\n",
      "Evaluations: 1700\tFitness: 10.0\n",
      "Evaluations: 1800\tFitness: 10.0\n",
      "Evaluations: 1900\tFitness: 10.0\n",
      "Evaluations: 2000\tFitness: 10.0\n",
      "[[-10.0];{'CBFCum': 0, 'PGCD': 0}, [-10.0];{'CBFCum': 0, 'PSP_L': 0}]\n"
     ]
    }
   ],
   "source": [
    "#Importing the libraries and reading the model\n",
    "from cobra.io import read_sbml_model\n",
    "model = read_sbml_model('iJB785_ed_valid.xml')\n",
    "envcond= {'CH4t': (-1000,1000),\n",
    "          'EX_meth_e':(-10,1000),\n",
    "          'EX_co2_e': (-10, 1000),\n",
    "         'EX_ac_e':(0,1000)}\n",
    "\n",
    "#Import library for the optimization\n",
    "from mewpy.optimization.evaluation import TargetFlux\n",
    "\n",
    "evaluator_1 = TargetFlux(reaction=\"EX_meth_e\", biomass=\"BIOMASS__1\", maximize=False, min_biomass_value=0.01)\n",
    "\n",
    "\n",
    "from mewpy.problems import RKOProblem\n",
    "\n",
    "problem = RKOProblem(model,fevaluation=[evaluator_1],envcond=envcond, candidate_max_size=3)\n",
    "\n",
    "from mewpy.optimization import EA\n",
    "ea = EA(problem, max_generations= 20, mp=20)\n",
    "final_pop = ea.run()\n",
    "print(final_pop)\n"
   ]
  },
  {
   "cell_type": "code",
   "execution_count": null,
   "id": "eac3d3e9-f1cd-4341-b276-c4a18b7198b8",
   "metadata": {},
   "outputs": [],
   "source": []
  }
 ],
 "metadata": {
  "kernelspec": {
   "display_name": "Python 3",
   "language": "python",
   "name": "python3"
  },
  "language_info": {
   "codemirror_mode": {
    "name": "ipython",
    "version": 3
   },
   "file_extension": ".py",
   "mimetype": "text/x-python",
   "name": "python",
   "nbconvert_exporter": "python",
   "pygments_lexer": "ipython3",
   "version": "3.8.8"
  }
 },
 "nbformat": 4,
 "nbformat_minor": 5
}
