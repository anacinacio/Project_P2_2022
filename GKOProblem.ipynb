{
 "cells": [
  {
   "cell_type": "markdown",
   "id": "d7664a3b-e97e-486d-b4c2-8833579f717e",
   "metadata": {},
   "source": [
    "## GKO - Gene Knockout "
   ]
  },
  {
   "cell_type": "code",
   "execution_count": 2,
   "id": "aa641502-95a8-4bc4-acfc-85f5fd3527ae",
   "metadata": {},
   "outputs": [
    {
     "name": "stdout",
     "output_type": "stream",
     "text": [
      "Building modification target list.\n",
      "Computing essential genes.\n"
     ]
    },
    {
     "name": "stderr",
     "output_type": "stream",
     "text": [
      "100%|██████████| 785/785 [02:11<00:00,  5.99it/s]\n"
     ]
    },
    {
     "name": "stdout",
     "output_type": "stream",
     "text": [
      "Running GA\n",
      "Evaluations: 100\tFitness: 0.21868355727152947\n",
      "Evaluations: 200\tFitness: 10.0\n",
      "Evaluations: 300\tFitness: 10.0\n",
      "Evaluations: 400\tFitness: 10.0\n",
      "Evaluations: 500\tFitness: 10.0\n",
      "Evaluations: 600\tFitness: 10.0\n",
      "Evaluations: 700\tFitness: 10.0\n",
      "Evaluations: 800\tFitness: 10.0\n",
      "Evaluations: 900\tFitness: 10.0\n",
      "Evaluations: 1000\tFitness: 10.0\n",
      "Evaluations: 1100\tFitness: 10.0\n",
      "Evaluations: 1200\tFitness: 10.0\n",
      "Evaluations: 1300\tFitness: 10.0\n",
      "Evaluations: 1400\tFitness: 10.0\n",
      "Evaluations: 1500\tFitness: 10.0\n",
      "Evaluations: 1600\tFitness: 10.0\n",
      "Evaluations: 1700\tFitness: 10.0\n",
      "Evaluations: 1800\tFitness: 10.0\n",
      "Evaluations: 1900\tFitness: 10.0\n",
      "Evaluations: 2000\tFitness: 10.0\n",
      "[[-10.0];{'SYNPCC7942_RS07670': 0, 'SYNPCC7942_RS11855': 0}, [-10.0];{'SYNPCC7942_RS00970': 0, 'SYNPCC7942_RS07560': 0}, [-10.0];{'SYNPCC7942_RS02595': 0, 'SYNPCC7942_RS00970': 0}, [-10.0];{'SYNPCC7942_RS00970': 0, 'SYNPCC7942_RS11855': 0}, [-10.0];{'SYNPCC7942_RS07560': 0, 'SYNPCC7942_RS07670': 0}, [-10.0];{'SYNPCC7942_RS07670': 0, 'SYNPCC7942_RS02420': 0}, [-10.0];{'SYNPCC7942_RS07670': 0, 'SYNPCC7942_RS02595': 0}]\n"
     ]
    }
   ],
   "source": [
    "#Importing the libraries and reading the model\n",
    "from cobra.io import read_sbml_model\n",
    "model = read_sbml_model('iJB785_ed_valid.xml')\n",
    "envcond= {'CH4t': (-1000,1000),\n",
    "          'EX_meth_e':(-10,1000),\n",
    "          'EX_co2_e': (-10, 1000),\n",
    "         'EX_ac_e':(0,1000)}\n",
    "\n",
    "#Import library for the optimization\n",
    "from mewpy.optimization.evaluation import TargetFlux\n",
    "\n",
    "evaluator_1 = TargetFlux(reaction=\"EX_meth_e\", biomass=\"BIOMASS__1\", maximize=False, min_biomass_value=0.01)\n",
    "\n",
    "from mewpy.problems import GKOProblem\n",
    "\n",
    "problem = GKOProblem(model,fevaluation=[evaluator_1],envcond=envcond, candidate_max_size=3)\n",
    "\n",
    "from mewpy.optimization import EA\n",
    "ea = EA(problem, max_generations= 20, mp=20)\n",
    "final_pop = ea.run()\n",
    "print(final_pop)"
   ]
  }
 ],
 "metadata": {
  "kernelspec": {
   "display_name": "Python 3",
   "language": "python",
   "name": "python3"
  },
  "language_info": {
   "codemirror_mode": {
    "name": "ipython",
    "version": 3
   },
   "file_extension": ".py",
   "mimetype": "text/x-python",
   "name": "python",
   "nbconvert_exporter": "python",
   "pygments_lexer": "ipython3",
   "version": "3.8.8"
  }
 },
 "nbformat": 4,
 "nbformat_minor": 5
}
